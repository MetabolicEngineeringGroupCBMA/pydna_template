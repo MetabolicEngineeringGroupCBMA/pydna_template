{
 "cells": [
  {
   "cell_type": "markdown",
   "metadata": {
    "deletable": true,
    "editable": true
   },
   "source": [
    "# Cunha et al. 2017\n",
    "\n",
    "Jupyter notebooks/pydna for \n",
    "\n",
    "\"Towards superior yeast for 2G ethanol: HAA1 and PRS3 overexpression boosts xylose consumption in the presence of lignocellulosic-derived inhibitors Joana T Cunha, Luis Ferraz, Aloia Romanía, Carlos E Costa, Isabel Sá-Correia, Björn Johansson and Lucília Domingues\"\n",
    "\n",
    "\n",
    "## [pMEC1049](pMEC1049.ipynb)\n",
    "\n",
    "pMEC1049 is a yeast episomal (YEp) vector carrying the hphMX4 hygromycin resistance marker and expressing the following genes:\n",
    "\n",
    "1. XYL1 (Xylose reductase)\n",
    "2. XYL2 (Xylitol dehydrogenase)\n",
    "3. XKS1 (Xylylokinase)\n",
    "4. TAL1 (Transaldolase)\n",
    "\n",
    "This vector was used in [Romaní et al. 2015](https://www.ncbi.nlm.nih.gov/pubmed/25536512) to create D-xylose metabolizing industrial yeast strains based on Saccharomyces cerevisiae CAT-1 and PE-2. \n",
    "The vector is referred to as pMEC1049 or pMEC149 in the publication."
   ]
  },
  {
   "cell_type": "code",
   "execution_count": null,
   "metadata": {},
   "outputs": [],
   "source": []
  }
 ],
 "metadata": {
  "anaconda-cloud": {},
  "kernelspec": {
   "display_name": "Python 3 (ipykernel)",
   "language": "python",
   "name": "python3"
  },
  "language_info": {
   "codemirror_mode": {
    "name": "ipython",
    "version": 3
   },
   "file_extension": ".py",
   "mimetype": "text/x-python",
   "name": "python",
   "nbconvert_exporter": "python",
   "pygments_lexer": "ipython3",
   "version": "3.8.11"
  }
 },
 "nbformat": 4,
 "nbformat_minor": 4
}
