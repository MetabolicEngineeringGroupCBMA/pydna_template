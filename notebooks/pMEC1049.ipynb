{
 "cells": [
  {
   "cell_type": "markdown",
   "metadata": {},
   "source": [
    "# The pMEC1049 xylose pathway vector\n",
    "\n",
    "The pMEC1049 xylose pathway vector was used in [Romani et al. 2014](http://www.ncbi.nlm.nih.gov/pubmed/25536512) to create xylose fermenting industrial yeast strains. The pMEC1049 is essentially a version of the four gene xylose pathway [pMEC1135](http://nbviewer.jupyter.org/github/BjornFJohansson/ypk-xylose-pathways/blob/master/pMEC1135.ipynb) but with the dominant hygromycin selectable marker hphMX4 instead of the URA3 marker. This makes it suitable for yeast strains without auxotrophical markers such as industrial yeast strains. The pMEC1135 was used in [Pereira et al. 2016](http://pubs.acs.org/doi/abs/10.1021/acssynbio.5b00250)\n",
    "\n",
    "\n",
    "\n",
    "The pMEC1049 vector expresses four genes :\n",
    "\n",
    "Gene | Enzyme | Acronym \n",
    "-------------------------------------------------- |-------------------|---\n",
    "[SsXYL1_N272D](http://www.ncbi.nlm.nih.gov/gene/4839234) |D-xylose reductase |XR\n",
    "[SsXYL2](http://www.ncbi.nlm.nih.gov/gene/4852013) |xylitol dehydrogenase |XDH \n",
    "[ScXKS1](http://www.yeastgenome.org/locus/S000003426/overview) |Xylulokinase |XK \n",
    "[ScTAL1](http://www.yeastgenome.org/locus/S000004346/overview) |Transaldolase |tal1p\n",
    "\n",
    "This plasmid wrongly designated pMEC149 in Table 1 of the publication.\n",
    "\n",
    "Below is an exerpt from the materials section:\n",
    "\n",
    "    The hphMX4 hygromycin resistance cassette was amplified from plasmid\n",
    "    pAG32 (Goldstein and McCusker, 1999) with primers pYPK0_hygfwd\n",
    "    and pYPK0_hygrev. The PCR product was transformed\n",
    "    together with plasmid pMEC1035 (Pereira et al., submitted) into\n",
    "    S. cerevisiae CEN.PK 113-5D (van Dijken et al., 2000).\n",
    "    \n",
    "    pMEC1035 = pMEC1135\n",
    "    \n",
    "The sequence of the pMEC1049 vector is assembled below based on this description.\n",
    "The primers mentioned are the primers below. \n",
    "\n",
    "The two primers used are the 807 and 806 primers.\n",
    "\n",
    "The systematic name for this vextor is:\n",
    "\n",
    "    pYPK4-ScTEF1-XR(YpDR7)-ScTDH3-XDH-ScPGI1-XK-ScFBA1-TAL1-ScPDC1(all tp PacI)(hyg+)"
   ]
  },
  {
   "cell_type": "code",
   "execution_count": 1,
   "metadata": {},
   "outputs": [],
   "source": [
    "from pydna.parsers import parse"
   ]
  },
  {
   "cell_type": "code",
   "execution_count": 2,
   "metadata": {
    "collapsed": false,
    "jupyter": {
     "outputs_hidden": false
    }
   },
   "outputs": [],
   "source": [
    "f,r, _, _ = parse('''\n",
    "\n",
    ">807_pYPK0_hygfwd2\n",
    "tctgacgctcagtggaacgaaaactcacgttaagggattttggtcatgagCACATACGATTTAGGTGACAC\n",
    "\n",
    ">806_pYPK0_hygrev2\n",
    "atagtccgtggaattaattctcatctttgacagcttatcatcgataagctCGACTCACTATAGGGAGAC\n",
    "\n",
    ">678_pYPK0_hygfwd: (77-mer)\n",
    "ctcacgttaagggattttggtcatgagCACATACGATTTAGGTGACACTATAGAAC\n",
    "\n",
    ">666_pYPK0_hygrev (70-mer)\n",
    "catctttgacagcttatcatcgataagctCGACTCACTATAGGGAGACC\n",
    "''')"
   ]
  },
  {
   "cell_type": "markdown",
   "metadata": {},
   "source": [
    "The pAG32 sequence is read from a local file below. This sequence is available from [EUROSCARF](http://www.euroscarf.de/plasmid_details.php?accno=P30106) or [Addgene](https://www.addgene.org/35122/). The pAG32 was described in [Goldstein and McCusker 1999](https://www.ncbi.nlm.nih.gov/pubmed/10514571)."
   ]
  },
  {
   "cell_type": "code",
   "execution_count": 3,
   "metadata": {},
   "outputs": [],
   "source": [
    "from pydna.readers import read"
   ]
  },
  {
   "cell_type": "code",
   "execution_count": 4,
   "metadata": {
    "collapsed": false,
    "jupyter": {
     "outputs_hidden": false
    }
   },
   "outputs": [],
   "source": [
    "pAG32 = read(\"pAG32.gb\")"
   ]
  },
  {
   "cell_type": "code",
   "execution_count": 5,
   "metadata": {
    "collapsed": false,
    "jupyter": {
     "outputs_hidden": false
    }
   },
   "outputs": [
    {
     "data": {
      "text/html": [
       "<a href='pAG32.gb' target='_blank'>pAG32.gb</a><br>"
      ],
      "text/plain": [
       "File(pAG32)(o4160)"
      ]
     },
     "execution_count": 5,
     "metadata": {},
     "output_type": "execute_result"
    }
   ],
   "source": [
    "pAG32"
   ]
  },
  {
   "cell_type": "markdown",
   "metadata": {},
   "source": [
    "The pMEC1135 vector expresses the XYL1, XYL2, XKS1 and TAL1 genes and is also from the Github [repository](https://github.com/BjornFJohansson/ypk-xylose-pathways) for [Pereira et al. 2016](https://www.ncbi.nlm.nih.gov/pubmed/26916955). This vector is described [here](http://nbviewer.jupyter.org/github/BjornFJohansson/ypk-xylose-pathways/blob/master/index.ipynb)."
   ]
  },
  {
   "cell_type": "code",
   "execution_count": 6,
   "metadata": {},
   "outputs": [],
   "source": [
    "from pydna.download import download_text"
   ]
  },
  {
   "cell_type": "code",
   "execution_count": 7,
   "metadata": {
    "collapsed": false,
    "jupyter": {
     "outputs_hidden": false
    }
   },
   "outputs": [],
   "source": [
    "pMEC1135 = read(download_text(\"https://raw.githubusercontent.com/MetabolicEngineeringGroupCBMA/ypk-xylose-pathways/master/notebooks/pMEC1135.gb\"))           "
   ]
  },
  {
   "cell_type": "code",
   "execution_count": 8,
   "metadata": {
    "collapsed": false,
    "jupyter": {
     "outputs_hidden": false
    }
   },
   "outputs": [
    {
     "data": {
      "text/plain": [
       "Dseqrecord(o14760)"
      ]
     },
     "execution_count": 8,
     "metadata": {},
     "output_type": "execute_result"
    }
   ],
   "source": [
    "pMEC1135"
   ]
  },
  {
   "cell_type": "code",
   "execution_count": 9,
   "metadata": {
    "collapsed": false,
    "jupyter": {
     "outputs_hidden": false
    }
   },
   "outputs": [
    {
     "data": {
      "text/plain": [
       "KsItUghJ26gWmTx7JAcZTSjEXas"
      ]
     },
     "execution_count": 9,
     "metadata": {},
     "output_type": "execute_result"
    }
   ],
   "source": [
    "pMEC1135.cseguid()"
   ]
  },
  {
   "cell_type": "markdown",
   "metadata": {},
   "source": [
    "A PCR product containing the hygromycin resistance gene is amplified by PCR using the primers f and r described above."
   ]
  },
  {
   "cell_type": "code",
   "execution_count": 10,
   "metadata": {},
   "outputs": [],
   "source": [
    "from pydna.amplify import pcr"
   ]
  },
  {
   "cell_type": "code",
   "execution_count": 11,
   "metadata": {
    "collapsed": false,
    "jupyter": {
     "outputs_hidden": false
    }
   },
   "outputs": [],
   "source": [
    "hygromycin_product = pcr(f, r, pAG32)"
   ]
  },
  {
   "cell_type": "markdown",
   "metadata": {},
   "source": [
    "The PCR product is joined with circular pMEC1135 vector by homologous recombination."
   ]
  },
  {
   "cell_type": "code",
   "execution_count": 12,
   "metadata": {},
   "outputs": [],
   "source": [
    "from pydna.assembly import Assembly"
   ]
  },
  {
   "cell_type": "code",
   "execution_count": 13,
   "metadata": {
    "collapsed": false,
    "jupyter": {
     "outputs_hidden": false
    }
   },
   "outputs": [],
   "source": [
    "asm_hyg = Assembly((pMEC1135, hygromycin_product, pMEC1135))"
   ]
  },
  {
   "cell_type": "code",
   "execution_count": 14,
   "metadata": {
    "collapsed": false,
    "jupyter": {
     "outputs_hidden": false
    }
   },
   "outputs": [
    {
     "data": {
      "text/plain": [
       "Assembly\n",
       "fragments..: 14760bp 1936bp 14760bp\n",
       "limit(bp)..: 25\n",
       "G.nodes....: 4\n",
       "algorithm..: common_sub_strings"
      ]
     },
     "execution_count": 14,
     "metadata": {},
     "output_type": "execute_result"
    }
   ],
   "source": [
    "asm_hyg"
   ]
  },
  {
   "cell_type": "markdown",
   "metadata": {},
   "source": [
    "All the recombination products are linear since the assembly algorithm assumes that all starting fragments are linear. The correct result is the largest linear product (15488 bp)."
   ]
  },
  {
   "cell_type": "code",
   "execution_count": 15,
   "metadata": {
    "collapsed": false,
    "jupyter": {
     "outputs_hidden": false
    }
   },
   "outputs": [],
   "source": [
    "candidate = asm_hyg.assemble_linear()[0]"
   ]
  },
  {
   "cell_type": "code",
   "execution_count": 16,
   "metadata": {
    "collapsed": false,
    "jupyter": {
     "outputs_hidden": false
    }
   },
   "outputs": [
    {
     "data": {
      "text/plain": [
       "pMEC1135|50\n",
       "         \\/\n",
       "         /\\\n",
       "         50|1936bp_PCR_prod|50\n",
       "                            \\/\n",
       "                            /\\\n",
       "                            50|pMEC1135"
      ]
     },
     "execution_count": 16,
     "metadata": {},
     "output_type": "execute_result"
    }
   ],
   "source": [
    "candidate.figure()"
   ]
  },
  {
   "cell_type": "markdown",
   "metadata": {},
   "source": [
    "We use the looped method to form a circular molecule."
   ]
  },
  {
   "cell_type": "code",
   "execution_count": 17,
   "metadata": {},
   "outputs": [],
   "source": [
    "pMEC1049 = candidate.looped().synced(pMEC1135)"
   ]
  },
  {
   "cell_type": "code",
   "execution_count": 18,
   "metadata": {
    "collapsed": false,
    "jupyter": {
     "outputs_hidden": false
    }
   },
   "outputs": [],
   "source": [
    "pMEC1049.locus = \"pMEC1049\""
   ]
  },
  {
   "cell_type": "code",
   "execution_count": 19,
   "metadata": {
    "collapsed": false,
    "jupyter": {
     "outputs_hidden": false
    }
   },
   "outputs": [
    {
     "data": {
      "text/plain": [
       "cSEGUID_coUUwKIZTWEpR7eT5ngvCfBEm2M"
      ]
     },
     "execution_count": 19,
     "metadata": {},
     "output_type": "execute_result"
    }
   ],
   "source": [
    "pMEC1049.stamp()"
   ]
  },
  {
   "cell_type": "code",
   "execution_count": 20,
   "metadata": {
    "collapsed": false,
    "jupyter": {
     "outputs_hidden": false
    }
   },
   "outputs": [
    {
     "data": {
      "text/html": [
       "<font face=monospace><a href='pMEC1049.gb' target='_blank'>pMEC1049.gb</a></font><br>"
      ]
     },
     "metadata": {},
     "output_type": "display_data"
    }
   ],
   "source": [
    "pMEC1049.write(\"pMEC1049.gb\")"
   ]
  }
 ],
 "metadata": {
  "anaconda-cloud": {},
  "kernelspec": {
   "display_name": "Python [conda env:bjorn38]",
   "language": "python",
   "name": "conda-env-bjorn38-py"
  },
  "language_info": {
   "codemirror_mode": {
    "name": "ipython",
    "version": 3
   },
   "file_extension": ".py",
   "mimetype": "text/x-python",
   "name": "python",
   "nbconvert_exporter": "python",
   "pygments_lexer": "ipython3",
   "version": "3.8.5"
  }
 },
 "nbformat": 4,
 "nbformat_minor": 4
}
