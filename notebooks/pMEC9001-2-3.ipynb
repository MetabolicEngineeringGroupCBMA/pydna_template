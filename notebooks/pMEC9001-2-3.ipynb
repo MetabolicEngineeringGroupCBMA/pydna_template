{
 "cells": [
  {
   "cell_type": "markdown",
   "metadata": {},
   "source": [
    "# Construction of the pMEC9001, 2 and 3 vectors\n",
    "\n",
    "The vector pMEC1049 vector was used in [Romaní et al. 2014](http://www.sciencedirect.com/science/article/pii/S096085241401757X) The pMEC1049 expresses a D-xylose metabolic pathway and has a hygromycin selectable marker. The details of the construction of pMEC1049 can be found [here](pMEC1049.ipynb).\n",
    "\n",
    "This document describe the construction of the pMEC9001, 2 and 3 vectors. The pMEC9001 is the pMEC1049 with an additional expression cassette for the Saccharomyces cerevisiae gene HAA1(YPR008W). The pMEC9002 is the pMEC1049 with an additional expression cassette for S. cerevisiae PRS3(YHL011C) and pMEC9003 has both of them.\n",
    "\n",
    "| Vector   | Relevant property                                            |\n",
    "|----------|--------------------------------------------------------------|\n",
    "| pMEC9001 | [HAA1](http://www.yeastgenome.org/locus/S000006212/overview) |\n",
    "| pMEC9002 | [PRS3](http://www.yeastgenome.org/locus/S000001003/overview) |\n",
    "| pMEC9003 | HAA1 & PRS3                                                  |\n",
    "\n",
    "Normally, this would be done following the yeast pathway kit strategy by adding genes with a set of new promoters and terminators, but in this case a requirement was to retain the native promoters and terminators for HAA1 and PRS3.\n",
    "\n",
    "The strategy involves linearizing the vector in two locations (before and after the xylose pathway) and adding the HAA1 and PRS3 expression cassettes amplified using tailed primers.\n",
    "\n",
    "\n",
    "## The PRS3 construct\n",
    "\n",
    "The PRS3 cassette was previously cloned according to the description below in vector YEpJCP according to this description:\n",
    "\n",
    "\"obtained by PCR amplification of fragment carrying PRS3 from Saccharomyces cerevisiae CEN.PK113-7D genomic DNA using appropriate primers and insertion into plasmid pGEM-T Easy. Cloning into YEplac195KanMX using EcoRI digestion sites.\" [Cunha et al. 2015](http://www.sciencedirect.com/science/article/pii/S0960852415006707)\n",
    "\n",
    "Primers:\n",
    "\n",
    "    P1: TTATCTTCATCACCGCCATAC\n",
    "    P2: ACAAGAGAAACTTTTGGGTAAAATG\n",
    "\n",
    "The exact same PRS3 fragment will be cloned in pMEC9002."
   ]
  },
  {
   "cell_type": "code",
   "execution_count": 127,
   "metadata": {},
   "outputs": [],
   "source": [
    "from pydna.parsers import parse_primers"
   ]
  },
  {
   "cell_type": "code",
   "execution_count": 128,
   "metadata": {
    "collapsed": false,
    "jupyter": {
     "outputs_hidden": false
    }
   },
   "outputs": [],
   "source": [
    "p1,p2 = parse_primers('''\n",
    ">P1\n",
    "TTATCTTCATCACCGCCATAC\n",
    ">P2\n",
    "ACAAGAGAAACTTTTGGGTAAAATG\n",
    "''')"
   ]
  },
  {
   "cell_type": "markdown",
   "metadata": {},
   "source": [
    "We gain access to the S. cerevisiae genome through the [pygenome](https://pypi.python.org/pypi/pygenome) module."
   ]
  },
  {
   "cell_type": "code",
   "execution_count": 129,
   "metadata": {
    "collapsed": false,
    "jupyter": {
     "outputs_hidden": false
    }
   },
   "outputs": [],
   "source": [
    "from pygenome import sg\n",
    "from pydna.dseqrecord import Dseqrecord"
   ]
  },
  {
   "cell_type": "code",
   "execution_count": 130,
   "metadata": {
    "collapsed": false,
    "jupyter": {
     "outputs_hidden": false
    }
   },
   "outputs": [],
   "source": [
    "PRS3_locus = Dseqrecord(sg.stdgene[\"PRS3\"].locus())"
   ]
  },
  {
   "cell_type": "markdown",
   "metadata": {},
   "source": [
    "The PRS3_locus contain the DNA from the end of the upstream ORF to the beginning of the downstream ORF."
   ]
  },
  {
   "cell_type": "code",
   "execution_count": 131,
   "metadata": {
    "collapsed": false,
    "jupyter": {
     "outputs_hidden": false
    }
   },
   "outputs": [
    {
     "data": {
      "text/plain": [
       "Dseqrecord(-2963)"
      ]
     },
     "execution_count": 131,
     "metadata": {},
     "output_type": "execute_result"
    }
   ],
   "source": [
    "PRS3_locus"
   ]
  },
  {
   "cell_type": "code",
   "execution_count": 132,
   "metadata": {},
   "outputs": [],
   "source": [
    "from pydna.amplify import pcr"
   ]
  },
  {
   "cell_type": "code",
   "execution_count": 133,
   "metadata": {
    "collapsed": false,
    "jupyter": {
     "outputs_hidden": false
    }
   },
   "outputs": [],
   "source": [
    "PRS3_product = pcr(p1, p2, PRS3_locus)"
   ]
  },
  {
   "cell_type": "code",
   "execution_count": 134,
   "metadata": {
    "collapsed": false,
    "jupyter": {
     "outputs_hidden": false
    }
   },
   "outputs": [
    {
     "data": {
      "text/html": [
       "Amplicon(1546)"
      ],
      "text/plain": [
       "Amplicon(1546)"
      ]
     },
     "execution_count": 134,
     "metadata": {},
     "output_type": "execute_result"
    }
   ],
   "source": [
    "PRS3_product"
   ]
  },
  {
   "cell_type": "code",
   "execution_count": 135,
   "metadata": {
    "collapsed": false,
    "jupyter": {
     "outputs_hidden": false
    }
   },
   "outputs": [
    {
     "data": {
      "text/plain": [
       "5TTATCTTCATCACCGCCATAC...CATTTTACCCAAAAGTTTCTCTTGT3\n",
       "                         |||||||||||||||||||||||||\n",
       "                        3GTAAAATGGGTTTTCAAAGAGAACA5\n",
       "5TTATCTTCATCACCGCCATAC3\n",
       " |||||||||||||||||||||\n",
       "3AATAGAAGTAGTGGCGGTATG...GTAAAATGGGTTTTCAAAGAGAACA5"
      ]
     },
     "execution_count": 135,
     "metadata": {},
     "output_type": "execute_result"
    }
   ],
   "source": [
    "PRS3_product.figure()"
   ]
  },
  {
   "cell_type": "markdown",
   "metadata": {},
   "source": [
    "The primers anneal perfectly to the template, so this is the PCR product we want."
   ]
  },
  {
   "cell_type": "markdown",
   "metadata": {},
   "source": [
    "# HAA1 construct\n",
    "\n",
    "We will now do the same with the HAA1 cassette.\n",
    "\n",
    "Vector: BHUM1737\n",
    "\n",
    "Construction: obtained by PCR amplification of a SalI/BamHI fragment carrying HAA1 from yeast genomic DNA using appropriate primers and subsequent insertion into plasmid YEplac195.\n",
    "\n",
    "Primers described in [Malcher et al. 2011](https://www.ncbi.nlm.nih.gov/pmc/articles/PMC3063667/) supporting information, Table S1\n",
    "\n",
    "    HAA1hc_fw: GTC GAC CCC ATT TCC CCT TTC TTT TCC\n",
    "    HAA1hc_rev: GGA TCC ATA CCT CAT CTC TGC GTG TTC G"
   ]
  },
  {
   "cell_type": "code",
   "execution_count": 136,
   "metadata": {},
   "outputs": [],
   "source": [
    "from pydna.parsers import parse_primers"
   ]
  },
  {
   "cell_type": "code",
   "execution_count": 137,
   "metadata": {},
   "outputs": [],
   "source": [
    "h1,h2 = parse_primers('''\n",
    ">HAA1hc_fw\n",
    "GTC GAC CCC ATT TCC CCT TTC TTT TCC\n",
    ">HAA1hc_rev\n",
    "GGA TCC ATA CCT CAT CTC TGC GTG TTC G\n",
    "''')"
   ]
  },
  {
   "cell_type": "code",
   "execution_count": 138,
   "metadata": {
    "collapsed": false,
    "jupyter": {
     "outputs_hidden": false
    }
   },
   "outputs": [],
   "source": [
    "HAA1_locus = Dseqrecord(sg.stdgene[\"HAA1\"].locus())"
   ]
  },
  {
   "cell_type": "code",
   "execution_count": 139,
   "metadata": {
    "collapsed": false,
    "jupyter": {
     "outputs_hidden": false
    }
   },
   "outputs": [
    {
     "data": {
      "text/plain": [
       "Dseqrecord(-4085)"
      ]
     },
     "execution_count": 139,
     "metadata": {},
     "output_type": "execute_result"
    }
   ],
   "source": [
    "HAA1_locus"
   ]
  },
  {
   "cell_type": "code",
   "execution_count": 140,
   "metadata": {
    "collapsed": false,
    "jupyter": {
     "outputs_hidden": false
    }
   },
   "outputs": [],
   "source": [
    "HAA1_product = pcr(h1, h2, HAA1_locus)"
   ]
  },
  {
   "cell_type": "code",
   "execution_count": 141,
   "metadata": {
    "collapsed": false,
    "jupyter": {
     "outputs_hidden": false
    }
   },
   "outputs": [
    {
     "data": {
      "text/html": [
       "Amplicon(3227)"
      ],
      "text/plain": [
       "Amplicon(3227)"
      ]
     },
     "execution_count": 141,
     "metadata": {},
     "output_type": "execute_result"
    }
   ],
   "source": [
    "HAA1_product"
   ]
  },
  {
   "cell_type": "code",
   "execution_count": 142,
   "metadata": {
    "collapsed": false,
    "jupyter": {
     "outputs_hidden": false
    }
   },
   "outputs": [
    {
     "data": {
      "text/plain": [
       "      5CCCATTTCCCCTTTCTTTTCC...CGAACACGCAGAGATGAGGTAT3\n",
       "                               ||||||||||||||||||||||\n",
       "                              3GCTTGTGCGTCTCTACTCCATACCTAGG5\n",
       "5GTCGACCCCATTTCCCCTTTCTTTTCC3\n",
       "       |||||||||||||||||||||\n",
       "      3GGGTAAAGGGGAAAGAAAAGG...GCTTGTGCGTCTCTACTCCATA5"
      ]
     },
     "execution_count": 142,
     "metadata": {},
     "output_type": "execute_result"
    }
   ],
   "source": [
    "HAA1_product.figure()"
   ]
  },
  {
   "cell_type": "markdown",
   "metadata": {},
   "source": [
    "These primers are tailed, but we have no reason to include these tails (containing restriction sites). We therefore cut six bp from the beginning and six bp from the end of the sequence:"
   ]
  },
  {
   "cell_type": "code",
   "execution_count": 143,
   "metadata": {},
   "outputs": [],
   "source": [
    "h1 = h1[6:]\n",
    "h2 = h2[6:]"
   ]
  },
  {
   "cell_type": "code",
   "execution_count": 144,
   "metadata": {},
   "outputs": [],
   "source": [
    "HAA1_product = pcr(h1, h2, HAA1_locus)"
   ]
  },
  {
   "cell_type": "code",
   "execution_count": 145,
   "metadata": {
    "collapsed": false,
    "jupyter": {
     "outputs_hidden": false
    }
   },
   "outputs": [
    {
     "data": {
      "text/plain": [
       "5CCCATTTCCCCTTTCTTTTCC...CGAACACGCAGAGATGAGGTAT3\n",
       "                         ||||||||||||||||||||||\n",
       "                        3GCTTGTGCGTCTCTACTCCATA5\n",
       "5CCCATTTCCCCTTTCTTTTCC3\n",
       " |||||||||||||||||||||\n",
       "3GGGTAAAGGGGAAAGAAAAGG...GCTTGTGCGTCTCTACTCCATA5"
      ]
     },
     "execution_count": 145,
     "metadata": {},
     "output_type": "execute_result"
    }
   ],
   "source": [
    "HAA1_product.figure()"
   ]
  },
  {
   "cell_type": "code",
   "execution_count": 146,
   "metadata": {
    "collapsed": false,
    "jupyter": {
     "outputs_hidden": false
    }
   },
   "outputs": [
    {
     "data": {
      "text/plain": [
       "Dseq(-3215)\n",
       "CCCA..GTAT\n",
       "GGGT..CATA"
      ]
     },
     "execution_count": 146,
     "metadata": {},
     "output_type": "execute_result"
    }
   ],
   "source": [
    "HAA1_product.seq"
   ]
  },
  {
   "cell_type": "markdown",
   "metadata": {},
   "source": [
    "Now we will have to design tailed primers for the HAA1_product and the PRS3_product sequences so that we can add them to pMEC1049 by gap repair. First we have to decide with which restriction enzymes we should open the pMEC1049 vector.\n",
    "\n",
    "The restriction enzymes below are candidates for linearizing the pMEC1049 before an after the cassette.\n",
    "\n",
    "[XhoI](http://rebase.neb.com/rebase/enz/XhoI.html) [AleI](http://rebase.neb.com/rebase/enz/AleI.html) [OliI](http://rebase.neb.com/rebase/enz/OliI.html)\n",
    "\n",
    "These enzymes are also unique in the pYPK0 based vectors, so we can use tha same strategy to create vectors expressing only the pRS3 and/or HAA1 but without the xylose pathway if needed."
   ]
  },
  {
   "cell_type": "code",
   "execution_count": 147,
   "metadata": {},
   "outputs": [],
   "source": [
    "from pydna.readers import read"
   ]
  },
  {
   "cell_type": "code",
   "execution_count": 148,
   "metadata": {
    "collapsed": false,
    "jupyter": {
     "outputs_hidden": false
    }
   },
   "outputs": [],
   "source": [
    "pMEC1049 = read(\"pMEC1049.gb\")"
   ]
  },
  {
   "cell_type": "code",
   "execution_count": 149,
   "metadata": {
    "collapsed": false,
    "jupyter": {
     "outputs_hidden": false
    }
   },
   "outputs": [
    {
     "data": {
      "text/html": [
       "<a href='pMEC1049.gb' target='_blank'>pMEC1049.gb</a><br>"
      ],
      "text/plain": [
       "File(id)(o15488)"
      ]
     },
     "execution_count": 149,
     "metadata": {},
     "output_type": "execute_result"
    }
   ],
   "source": [
    "pMEC1049"
   ]
  },
  {
   "cell_type": "code",
   "execution_count": 150,
   "metadata": {},
   "outputs": [],
   "source": [
    "from Bio.Restriction import XhoI, AleI, OliI"
   ]
  },
  {
   "cell_type": "code",
   "execution_count": 151,
   "metadata": {
    "collapsed": false,
    "jupyter": {
     "outputs_hidden": false
    }
   },
   "outputs": [],
   "source": [
    "pMEC1049_xho = pMEC1049.linearize(XhoI)"
   ]
  },
  {
   "cell_type": "markdown",
   "metadata": {},
   "source": [
    "We design gap repair primers using the pydna assembly primers function"
   ]
  },
  {
   "cell_type": "code",
   "execution_count": 152,
   "metadata": {},
   "outputs": [],
   "source": [
    "from pydna.design import assembly_fragments"
   ]
  },
  {
   "cell_type": "code",
   "execution_count": 153,
   "metadata": {
    "collapsed": false,
    "jupyter": {
     "outputs_hidden": false
    }
   },
   "outputs": [],
   "source": [
    "fragments = assembly_fragments( [Dseqrecord(pMEC1049_xho.seq.mung()), HAA1_product, pMEC1049_xho] )"
   ]
  },
  {
   "cell_type": "code",
   "execution_count": 154,
   "metadata": {},
   "outputs": [
    {
     "data": {
      "text/plain": [
       "Dseq(-3215)\n",
       "CCCA..GTAT\n",
       "GGGT..CATA"
      ]
     },
     "execution_count": 154,
     "metadata": {},
     "output_type": "execute_result"
    }
   ],
   "source": [
    "HAA1_product.seq"
   ]
  },
  {
   "cell_type": "code",
   "execution_count": 155,
   "metadata": {},
   "outputs": [],
   "source": [
    "Hfw = fragments[1].forward_primer\n",
    "Hrv = fragments[1].reverse_primer"
   ]
  },
  {
   "cell_type": "code",
   "execution_count": 156,
   "metadata": {},
   "outputs": [],
   "source": [
    "Hfw.id = \"Hfw\"\n",
    "Hrv.id = \"Hrv\""
   ]
  },
  {
   "cell_type": "code",
   "execution_count": 157,
   "metadata": {},
   "outputs": [],
   "source": [
    "Hfw = Hfw[1:]\n",
    "Hrv = Hrv[:-1]"
   ]
  },
  {
   "cell_type": "code",
   "execution_count": 158,
   "metadata": {},
   "outputs": [],
   "source": [
    "Hfw = Hfw[:50] # we limit the length to 50 bp since these are less expensive from our provider\n",
    "Hrv = Hrv[:50]"
   ]
  },
  {
   "cell_type": "code",
   "execution_count": 159,
   "metadata": {
    "collapsed": false,
    "jupyter": {
     "outputs_hidden": false
    }
   },
   "outputs": [
    {
     "name": "stdout",
     "output_type": "stream",
     "text": [
      "part_part_Hfw\tGGTTTTACCGTGTGCGGAGATCAGGTTCTGATCCCCCATTTCCCCTTTCT\n",
      "\n"
     ]
    }
   ],
   "source": [
    "print( Hfw.format(\"tab\") )"
   ]
  },
  {
   "cell_type": "code",
   "execution_count": 160,
   "metadata": {
    "collapsed": false,
    "jupyter": {
     "outputs_hidden": false
    }
   },
   "outputs": [
    {
     "name": "stdout",
     "output_type": "stream",
     "text": [
      "part_part_Hrv\tAGACAAACCGTGGGACGAATTCTTAAGATGCTCGAATACCTCATCTCTGC\n",
      "\n"
     ]
    }
   ],
   "source": [
    "print( Hrv.format(\"tab\") )"
   ]
  },
  {
   "cell_type": "code",
   "execution_count": 161,
   "metadata": {
    "collapsed": false,
    "jupyter": {
     "outputs_hidden": false
    }
   },
   "outputs": [],
   "source": [
    "HAA1_recombination_product = pcr(Hfw, Hrv, HAA1_locus)"
   ]
  },
  {
   "cell_type": "code",
   "execution_count": 162,
   "metadata": {
    "collapsed": false,
    "jupyter": {
     "outputs_hidden": false
    }
   },
   "outputs": [
    {
     "data": {
      "text/html": [
       "Amplicon(3284)"
      ],
      "text/plain": [
       "Amplicon(3284)"
      ]
     },
     "execution_count": 162,
     "metadata": {},
     "output_type": "execute_result"
    }
   ],
   "source": [
    "HAA1_recombination_product"
   ]
  },
  {
   "cell_type": "code",
   "execution_count": 163,
   "metadata": {
    "collapsed": false,
    "jupyter": {
     "outputs_hidden": false
    }
   },
   "outputs": [
    {
     "data": {
      "text/plain": [
       "                                  5CCCATTTCCCCTTTCT...GCAGAGATGAGGTATT3\n",
       "                                                      ||||||||||||||||\n",
       "                                                     3CGTCTCTACTCCATAAGCTCGTAGAATTCTTAAGCAGGGTGCCAAACAGA5\n",
       "5GGTTTTACCGTGTGCGGAGATCAGGTTCTGATCCCCCATTTCCCCTTTCT3\n",
       "                                   ||||||||||||||||\n",
       "                                  3GGGTAAAGGGGAAAGA...CGTCTCTACTCCATAA5"
      ]
     },
     "execution_count": 163,
     "metadata": {},
     "output_type": "execute_result"
    }
   ],
   "source": [
    "HAA1_recombination_product.figure()"
   ]
  },
  {
   "cell_type": "code",
   "execution_count": 164,
   "metadata": {},
   "outputs": [],
   "source": [
    "from pydna.assembly import Assembly"
   ]
  },
  {
   "cell_type": "code",
   "execution_count": 165,
   "metadata": {},
   "outputs": [],
   "source": [
    "asm_haa1 = Assembly((pMEC1049_xho, HAA1_recombination_product))"
   ]
  },
  {
   "cell_type": "code",
   "execution_count": 166,
   "metadata": {
    "collapsed": false,
    "jupyter": {
     "outputs_hidden": false
    }
   },
   "outputs": [
    {
     "data": {
      "text/plain": [
       "Assembly\n",
       "fragments..: 15492bp 3284bp\n",
       "limit(bp)..: 25\n",
       "G.nodes....: 4\n",
       "algorithm..: common_sub_strings"
      ]
     },
     "execution_count": 166,
     "metadata": {},
     "output_type": "execute_result"
    }
   ],
   "source": [
    "asm_haa1"
   ]
  },
  {
   "cell_type": "code",
   "execution_count": 167,
   "metadata": {},
   "outputs": [],
   "source": [
    "candidate = asm_haa1.assemble_circular()[0]"
   ]
  },
  {
   "cell_type": "code",
   "execution_count": 168,
   "metadata": {
    "collapsed": false,
    "jupyter": {
     "outputs_hidden": false
    }
   },
   "outputs": [
    {
     "data": {
      "text/plain": [
       " -|pMEC1049_lin|34\n",
       "|               \\/\n",
       "|               /\\\n",
       "|               34|3284bp_PCR_prod|35\n",
       "|                                  \\/\n",
       "|                                  /\\\n",
       "|                                  35-\n",
       "|                                     |\n",
       " -------------------------------------"
      ]
     },
     "execution_count": 168,
     "metadata": {},
     "output_type": "execute_result"
    }
   ],
   "source": [
    "candidate.figure()"
   ]
  },
  {
   "cell_type": "code",
   "execution_count": 169,
   "metadata": {},
   "outputs": [],
   "source": [
    "pMEC9001 = candidate.synced(pMEC1049)"
   ]
  },
  {
   "cell_type": "code",
   "execution_count": 170,
   "metadata": {
    "collapsed": false,
    "jupyter": {
     "outputs_hidden": false
    }
   },
   "outputs": [
    {
     "data": {
      "text/plain": [
       "cSEGUID_BgBOlNv8lWGLExKGOpZa8J83H9I"
      ]
     },
     "execution_count": 170,
     "metadata": {},
     "output_type": "execute_result"
    }
   ],
   "source": [
    "pMEC9001.stamp()"
   ]
  },
  {
   "cell_type": "code",
   "execution_count": 171,
   "metadata": {},
   "outputs": [],
   "source": [
    "pMEC9001.locus=\"pMEC9001\""
   ]
  },
  {
   "cell_type": "markdown",
   "metadata": {},
   "source": [
    "The pMEC9001 is the pMEC1049 with HAA1. The sequence can be downloaded using the link below."
   ]
  },
  {
   "cell_type": "code",
   "execution_count": 172,
   "metadata": {
    "collapsed": false,
    "jupyter": {
     "outputs_hidden": false
    }
   },
   "outputs": [
    {
     "data": {
      "text/html": [
       "<font face=monospace><a href='pMEC9001.gb' target='_blank'>pMEC9001.gb</a></font><br>"
      ]
     },
     "metadata": {},
     "output_type": "display_data"
    }
   ],
   "source": [
    "pMEC9001.write(\"pMEC9001.gb\")"
   ]
  },
  {
   "cell_type": "markdown",
   "metadata": {},
   "source": [
    "## PRS3\n",
    "\n",
    "We will now make a pMEC1049 with PRS3 called pMEC9002."
   ]
  },
  {
   "cell_type": "code",
   "execution_count": 173,
   "metadata": {
    "collapsed": false,
    "jupyter": {
     "outputs_hidden": false
    }
   },
   "outputs": [],
   "source": [
    "pMEC1049_oli = pMEC1049.linearize(OliI)"
   ]
  },
  {
   "cell_type": "markdown",
   "metadata": {},
   "source": [
    "The integration site was chosen to be the uniqie OliI site."
   ]
  },
  {
   "cell_type": "code",
   "execution_count": 174,
   "metadata": {
    "collapsed": false,
    "jupyter": {
     "outputs_hidden": false
    }
   },
   "outputs": [],
   "source": [
    "fragments2 = assembly_fragments((pMEC1049_oli, PRS3_product, pMEC1049_oli))"
   ]
  },
  {
   "cell_type": "code",
   "execution_count": 175,
   "metadata": {},
   "outputs": [],
   "source": [
    "Pfw = fragments2[1].forward_primer\n",
    "Prv = fragments2[1].reverse_primer"
   ]
  },
  {
   "cell_type": "code",
   "execution_count": 176,
   "metadata": {
    "collapsed": false,
    "jupyter": {
     "outputs_hidden": false
    }
   },
   "outputs": [],
   "source": [
    "Pfw.id = \"Pfw\"\n",
    "Prv.id = \"Prv\""
   ]
  },
  {
   "cell_type": "code",
   "execution_count": 177,
   "metadata": {
    "collapsed": false,
    "jupyter": {
     "outputs_hidden": false
    }
   },
   "outputs": [],
   "source": [
    "Prv=Prv[:-2]"
   ]
  },
  {
   "cell_type": "code",
   "execution_count": 178,
   "metadata": {},
   "outputs": [],
   "source": [
    "Pfw = Pfw[:51]\n",
    "Prv = Prv[:51]"
   ]
  },
  {
   "cell_type": "code",
   "execution_count": 179,
   "metadata": {
    "collapsed": false,
    "jupyter": {
     "outputs_hidden": false
    }
   },
   "outputs": [
    {
     "name": "stdout",
     "output_type": "stream",
     "text": [
      "part_Pfw\tTAACGATGTAGTACAGCGTTTCCGCTTTTTCACCCTTATCTTCATCACCGC\n",
      "\n",
      "part_part_Prv\tCATAAGTACCCATCCAAGAGCACGCTTATTCACCAACAAGAGAAACTTTTG\n",
      "\n"
     ]
    }
   ],
   "source": [
    "print( Pfw.format(\"tab\"))\n",
    "print( Prv.format(\"tab\"))"
   ]
  },
  {
   "cell_type": "code",
   "execution_count": 180,
   "metadata": {},
   "outputs": [],
   "source": [
    "PRS3_recombination_product = pcr(Pfw, Prv, PRS3_locus)"
   ]
  },
  {
   "cell_type": "code",
   "execution_count": 181,
   "metadata": {
    "collapsed": false,
    "jupyter": {
     "outputs_hidden": false
    }
   },
   "outputs": [
    {
     "data": {
      "text/html": [
       "Amplicon(1616)"
      ],
      "text/plain": [
       "Amplicon(1616)"
      ]
     },
     "execution_count": 181,
     "metadata": {},
     "output_type": "execute_result"
    }
   ],
   "source": [
    "PRS3_recombination_product"
   ]
  },
  {
   "cell_type": "markdown",
   "metadata": {},
   "source": [
    "The recombination was designed for OliI but AleI was used."
   ]
  },
  {
   "cell_type": "code",
   "execution_count": 182,
   "metadata": {},
   "outputs": [],
   "source": [
    "pMEC1049_ale = pMEC1049.linearize(AleI)"
   ]
  },
  {
   "cell_type": "code",
   "execution_count": 183,
   "metadata": {
    "collapsed": false,
    "jupyter": {
     "outputs_hidden": false
    }
   },
   "outputs": [],
   "source": [
    "asm_prs3 = Assembly((pMEC1049_ale, PRS3_recombination_product))"
   ]
  },
  {
   "cell_type": "code",
   "execution_count": 184,
   "metadata": {
    "collapsed": false,
    "jupyter": {
     "outputs_hidden": false
    }
   },
   "outputs": [
    {
     "data": {
      "text/plain": [
       "Assembly\n",
       "fragments..: 15488bp 1616bp\n",
       "limit(bp)..: 25\n",
       "G.nodes....: 4\n",
       "algorithm..: common_sub_strings"
      ]
     },
     "execution_count": 184,
     "metadata": {},
     "output_type": "execute_result"
    }
   ],
   "source": [
    "asm_prs3"
   ]
  },
  {
   "cell_type": "code",
   "execution_count": 185,
   "metadata": {
    "collapsed": false,
    "jupyter": {
     "outputs_hidden": false
    }
   },
   "outputs": [],
   "source": [
    "candidate = asm_prs3.assemble_circular()[0]"
   ]
  },
  {
   "cell_type": "code",
   "execution_count": 186,
   "metadata": {
    "collapsed": false,
    "jupyter": {
     "outputs_hidden": false
    }
   },
   "outputs": [
    {
     "data": {
      "text/html": [
       "<pre> -|pMEC1049_lin|35\n",
       "|               \\/\n",
       "|               /\\\n",
       "|               35|1616bp_PCR_prod|35\n",
       "|                                  \\/\n",
       "|                                  /\\\n",
       "|                                  35-\n",
       "|                                     |\n",
       " -------------------------------------</pre>"
      ],
      "text/plain": [
       "Contig(o17034)"
      ]
     },
     "execution_count": 186,
     "metadata": {},
     "output_type": "execute_result"
    }
   ],
   "source": [
    "candidate"
   ]
  },
  {
   "cell_type": "code",
   "execution_count": 187,
   "metadata": {
    "collapsed": false,
    "jupyter": {
     "outputs_hidden": false
    }
   },
   "outputs": [],
   "source": [
    "pMEC9002 = candidate.synced(pMEC1049)"
   ]
  },
  {
   "cell_type": "code",
   "execution_count": 188,
   "metadata": {},
   "outputs": [],
   "source": [
    "pMEC9002.locus = \"pMEC9002\""
   ]
  },
  {
   "cell_type": "code",
   "execution_count": 189,
   "metadata": {
    "collapsed": false,
    "jupyter": {
     "outputs_hidden": false
    }
   },
   "outputs": [
    {
     "data": {
      "text/plain": [
       "cSEGUID_5qldWd2jGxUyMnMKECLGpNvJv2M"
      ]
     },
     "execution_count": 189,
     "metadata": {},
     "output_type": "execute_result"
    }
   ],
   "source": [
    "pMEC9002.stamp()"
   ]
  },
  {
   "cell_type": "markdown",
   "metadata": {},
   "source": [
    "The pMEC9002 vector is the pMEC1049 with PRS3"
   ]
  },
  {
   "cell_type": "code",
   "execution_count": 190,
   "metadata": {
    "collapsed": false,
    "jupyter": {
     "outputs_hidden": false
    }
   },
   "outputs": [
    {
     "data": {
      "text/html": [
       "<font face=monospace><a href='pMEC9002.gb' target='_blank'>pMEC9002.gb</a></font><br>"
      ]
     },
     "metadata": {},
     "output_type": "display_data"
    }
   ],
   "source": [
    "pMEC9002.write(\"pMEC9002.gb\")"
   ]
  },
  {
   "cell_type": "markdown",
   "metadata": {},
   "source": [
    "## pMEC9003\n",
    "\n",
    "The HAA1 and PRS3 cassettes were added to the plasmid in one step to the plasmid digested with both XhoI and AleI. Cutting with XhoI and AleI makes two fragments about 6 and 9 kb."
   ]
  },
  {
   "cell_type": "code",
   "execution_count": 191,
   "metadata": {
    "collapsed": false,
    "jupyter": {
     "outputs_hidden": false
    }
   },
   "outputs": [],
   "source": [
    "pMEC1049_9kbp, pMEC1049_6kb = pMEC1049.cut(XhoI, AleI)"
   ]
  },
  {
   "cell_type": "code",
   "execution_count": 192,
   "metadata": {
    "collapsed": false,
    "jupyter": {
     "outputs_hidden": false
    }
   },
   "outputs": [
    {
     "data": {
      "text/plain": [
       "Dseqrecord(-6017)"
      ]
     },
     "execution_count": 192,
     "metadata": {},
     "output_type": "execute_result"
    }
   ],
   "source": [
    "pMEC1049_6kb"
   ]
  },
  {
   "cell_type": "code",
   "execution_count": 193,
   "metadata": {
    "collapsed": false,
    "jupyter": {
     "outputs_hidden": false
    }
   },
   "outputs": [
    {
     "data": {
      "text/plain": [
       "Dseqrecord(-9475)"
      ]
     },
     "execution_count": 193,
     "metadata": {},
     "output_type": "execute_result"
    }
   ],
   "source": [
    "pMEC1049_9kbp"
   ]
  },
  {
   "cell_type": "code",
   "execution_count": 194,
   "metadata": {
    "collapsed": false,
    "jupyter": {
     "outputs_hidden": false
    }
   },
   "outputs": [],
   "source": [
    "pMEC1049_6kb.locus = \"pMEC1049_6kb\"\n",
    "pMEC1049_9kbp.locus = \"pMEC1049_9kbp\""
   ]
  },
  {
   "cell_type": "code",
   "execution_count": 195,
   "metadata": {
    "collapsed": false,
    "jupyter": {
     "outputs_hidden": false
    }
   },
   "outputs": [],
   "source": [
    "asm_prs_haa = Assembly((pMEC1049_6kb, pMEC1049_9kbp, HAA1_recombination_product, PRS3_recombination_product))"
   ]
  },
  {
   "cell_type": "code",
   "execution_count": 196,
   "metadata": {
    "collapsed": false,
    "jupyter": {
     "outputs_hidden": false
    }
   },
   "outputs": [
    {
     "data": {
      "text/plain": [
       "Assembly\n",
       "fragments..: 6017bp 9475bp 3284bp 1616bp\n",
       "limit(bp)..: 25\n",
       "G.nodes....: 8\n",
       "algorithm..: common_sub_strings"
      ]
     },
     "execution_count": 196,
     "metadata": {},
     "output_type": "execute_result"
    }
   ],
   "source": [
    "asm_prs_haa"
   ]
  },
  {
   "cell_type": "code",
   "execution_count": 197,
   "metadata": {},
   "outputs": [],
   "source": [
    "candidate = asm_prs_haa.assemble_circular()[0]"
   ]
  },
  {
   "cell_type": "code",
   "execution_count": 198,
   "metadata": {
    "collapsed": false,
    "jupyter": {
     "outputs_hidden": false
    }
   },
   "outputs": [
    {
     "data": {
      "text/html": [
       "<pre> -|pMEC1049_6kb|34\n",
       "|               \\/\n",
       "|               /\\\n",
       "|               34|3284bp_PCR_prod|35\n",
       "|                                  \\/\n",
       "|                                  /\\\n",
       "|                                  35|pMEC1049_9kbp|35\n",
       "|                                                   \\/\n",
       "|                                                   /\\\n",
       "|                                                   35|1616bp_PCR_prod|35\n",
       "|                                                                      \\/\n",
       "|                                                                      /\\\n",
       "|                                                                      35-\n",
       "|                                                                         |\n",
       " -------------------------------------------------------------------------</pre>"
      ],
      "text/plain": [
       "Contig(o20249)"
      ]
     },
     "execution_count": 198,
     "metadata": {},
     "output_type": "execute_result"
    }
   ],
   "source": [
    "candidate"
   ]
  },
  {
   "cell_type": "code",
   "execution_count": 199,
   "metadata": {
    "collapsed": false,
    "jupyter": {
     "outputs_hidden": false
    }
   },
   "outputs": [],
   "source": [
    "pMEC9003 = candidate.synced(pMEC1049)"
   ]
  },
  {
   "cell_type": "code",
   "execution_count": 200,
   "metadata": {
    "collapsed": false,
    "jupyter": {
     "outputs_hidden": false
    }
   },
   "outputs": [
    {
     "data": {
      "text/plain": [
       "cSEGUID_hhymwO1hS1IXp9n4XX4eODGWuhU"
      ]
     },
     "execution_count": 200,
     "metadata": {},
     "output_type": "execute_result"
    }
   ],
   "source": [
    "pMEC9003.stamp()"
   ]
  },
  {
   "cell_type": "code",
   "execution_count": 201,
   "metadata": {},
   "outputs": [],
   "source": [
    "pMEC9003.locus=\"pMEC9003\""
   ]
  },
  {
   "cell_type": "markdown",
   "metadata": {},
   "source": [
    "pMEC9003 is the pMEC1049 with both HAA1 and PRS3. The sequence can be downloaded from the link below."
   ]
  },
  {
   "cell_type": "code",
   "execution_count": 202,
   "metadata": {
    "collapsed": false,
    "jupyter": {
     "outputs_hidden": false
    }
   },
   "outputs": [
    {
     "data": {
      "text/plain": [
       "Dseqrecord(o20249)"
      ]
     },
     "execution_count": 202,
     "metadata": {},
     "output_type": "execute_result"
    }
   ],
   "source": [
    "pMEC9003"
   ]
  },
  {
   "cell_type": "code",
   "execution_count": 203,
   "metadata": {
    "collapsed": false,
    "jupyter": {
     "outputs_hidden": false
    }
   },
   "outputs": [
    {
     "data": {
      "text/html": [
       "<font face=monospace><a href='pMEC9003.gb' target='_blank'>pMEC9003.gb</a></font><br>"
      ]
     },
     "metadata": {},
     "output_type": "display_data"
    }
   ],
   "source": [
    "pMEC9003.write(\"pMEC9003.gb\")"
   ]
  }
 ],
 "metadata": {
  "anaconda-cloud": {},
  "kernelspec": {
   "display_name": "Python [conda env:bjorn38]",
   "language": "python",
   "name": "conda-env-bjorn38-py"
  },
  "language_info": {
   "codemirror_mode": {
    "name": "ipython",
    "version": 3
   },
   "file_extension": ".py",
   "mimetype": "text/x-python",
   "name": "python",
   "nbconvert_exporter": "python",
   "pygments_lexer": "ipython3",
   "version": "3.8.5"
  }
 },
 "nbformat": 4,
 "nbformat_minor": 4
}
